{
  "nbformat": 4,
  "nbformat_minor": 0,
  "metadata": {
    "colab": {
      "provenance": [],
      "authorship_tag": "ABX9TyNGmrmW0oRDuuenlH0gi/i9",
      "include_colab_link": true
    },
    "kernelspec": {
      "name": "python3",
      "display_name": "Python 3"
    },
    "language_info": {
      "name": "python"
    }
  },
  "cells": [
    {
      "cell_type": "markdown",
      "metadata": {
        "id": "view-in-github",
        "colab_type": "text"
      },
      "source": [
        "<a href=\"https://colab.research.google.com/github/Shivani11032006/Daily-work/blob/main/Untitled10.ipynb\" target=\"_parent\"><img src=\"https://colab.research.google.com/assets/colab-badge.svg\" alt=\"Open In Colab\"/></a>"
      ]
    },
    {
      "cell_type": "code",
      "execution_count": 7,
      "metadata": {
        "colab": {
          "base_uri": "https://localhost:8080/"
        },
        "id": "sxda4yggWtVq",
        "outputId": "0ccb02a5-dbdf-4271-907d-675447d003e3"
      },
      "outputs": [
        {
          "output_type": "stream",
          "name": "stdout",
          "text": [
            "Original DataFrame:\n",
            "      Name  Age           City\n",
            "0    Alice   25       New York\n",
            "1      Bob   30  San Francisco\n",
            "2  Charlie   35    Los Angeles\n",
            "3    David   40        Chicago\n",
            "4      Eve   45        Houston\n",
            "\n",
            "DataFrame sorted by Age in descending order:\n",
            "      Name  Age           City\n",
            "4      Eve   45        Houston\n",
            "3    David   40        Chicago\n",
            "2  Charlie   35    Los Angeles\n",
            "1      Bob   30  San Francisco\n",
            "0    Alice   25       New York\n"
          ]
        }
      ],
      "source": [
        "import pandas as pd\n",
        "data = {\n",
        "    'Name': ['Alice', 'Bob', 'Charlie', 'David', 'Eve'],\n",
        "    'Age': [25, 30, 35, 40, 45],\n",
        "    'City': ['New York', 'San Francisco', 'Los Angeles', 'Chicago', 'Houston']\n",
        "}\n",
        "df = pd.DataFrame(data)\n",
        "print(\"Original DataFrame:\")\n",
        "print(df)\n",
        "df_sorted = df.sort_values(by='Age', ascending=False)\n",
        "print(\"\\nDataFrame sorted by Age in descending order:\")\n",
        "print(df_sorted)"
      ]
    },
    {
      "cell_type": "code",
      "source": [
        "import pandas as pd\n",
        "data = {\n",
        "    'Age': [25, None, 30, 35, None,4.5],\n",
        "    'Height': [5.5, 6.1, 5.9, None, 5.8, 5.2],\n",
        "    'HelmetStatus': [1, None, 1, 0, 1, 1],\n",
        "    'Gender': ['M', 'F', 'M', None, 'F', 'M'],\n",
        "    'Experience': [2, 4, 6, 1, None,None]\n",
        "}\n",
        "df = pd.DataFrame(data)\n",
        "print(\"Original DataFrame with missing values:\")\n",
        "print(df)\n",
        "df_filled_mean = df.copy()\n",
        "df_filled_median = df.copy()\n",
        "df_filled_mode = df.copy()\n",
        "df_filled_mean['Age'].fillna(df['Age'].mean(), inplace=True)\n",
        "df_filled_mean['Height'].fillna(df['Height'].mean(), inplace=True)\n",
        "df_filled_mean['Experience'].fillna(df['Experience'].mean(), inplace=True)\n",
        "df_filled_median['Age'].fillna(df['Age'].median(), inplace=True)\n",
        "df_filled_median['Height'].fillna(df['Height'].median(), inplace=True)\n",
        "df_filled_median['Experience'].fillna(df['Experience'].median(), inplace=True)\n",
        "df_filled_mode['Gender'].fillna(df['Gender'].mode()[0], inplace=True)\n",
        "df_filled_mode['HelmetStatus'].fillna(df['HelmetStatus'].mode()[0], inplace=True)\n",
        "print(\"\\nDataFrame after filling missing values with mean:\")\n",
        "print(df_filled_mean)\n",
        "print(\"\\nDataFrame after filling missing values with median:\")\n",
        "print(df_filled_median)\n",
        "print(\"\\nDataFrame after filling missing values with mode:\")\n",
        "print(df_filled_mode)\n"
      ],
      "metadata": {
        "colab": {
          "base_uri": "https://localhost:8080/"
        },
        "id": "dhr0tbKrY3ob",
        "outputId": "1595c243-4ab8-4b66-bcd1-56b6e97fd75e"
      },
      "execution_count": 6,
      "outputs": [
        {
          "output_type": "stream",
          "name": "stdout",
          "text": [
            "Original DataFrame with missing values:\n",
            "    Age  Height  HelmetStatus Gender  Experience\n",
            "0  25.0     5.5           1.0      M         2.0\n",
            "1   NaN     6.1           NaN      F         4.0\n",
            "2  30.0     5.9           1.0      M         6.0\n",
            "3  35.0     NaN           0.0   None         1.0\n",
            "4   NaN     5.8           1.0      F         NaN\n",
            "5   4.5     5.2           1.0      M         NaN\n",
            "\n",
            "DataFrame after filling missing values with mean:\n",
            "      Age  Height  HelmetStatus Gender  Experience\n",
            "0  25.000     5.5           1.0      M        2.00\n",
            "1  23.625     6.1           NaN      F        4.00\n",
            "2  30.000     5.9           1.0      M        6.00\n",
            "3  35.000     5.7           0.0   None        1.00\n",
            "4  23.625     5.8           1.0      F        3.25\n",
            "5   4.500     5.2           1.0      M        3.25\n",
            "\n",
            "DataFrame after filling missing values with median:\n",
            "    Age  Height  HelmetStatus Gender  Experience\n",
            "0  25.0     5.5           1.0      M         2.0\n",
            "1  27.5     6.1           NaN      F         4.0\n",
            "2  30.0     5.9           1.0      M         6.0\n",
            "3  35.0     5.8           0.0   None         1.0\n",
            "4  27.5     5.8           1.0      F         3.0\n",
            "5   4.5     5.2           1.0      M         3.0\n",
            "\n",
            "DataFrame after filling missing values with mode:\n",
            "    Age  Height  HelmetStatus Gender  Experience\n",
            "0  25.0     5.5           1.0      M         2.0\n",
            "1   NaN     6.1           1.0      F         4.0\n",
            "2  30.0     5.9           1.0      M         6.0\n",
            "3  35.0     NaN           0.0      M         1.0\n",
            "4   NaN     5.8           1.0      F         NaN\n",
            "5   4.5     5.2           1.0      M         NaN\n"
          ]
        },
        {
          "output_type": "stream",
          "name": "stderr",
          "text": [
            "<ipython-input-6-ae4f1ee34d2f>:15: FutureWarning: A value is trying to be set on a copy of a DataFrame or Series through chained assignment using an inplace method.\n",
            "The behavior will change in pandas 3.0. This inplace method will never work because the intermediate object on which we are setting values always behaves as a copy.\n",
            "\n",
            "For example, when doing 'df[col].method(value, inplace=True)', try using 'df.method({col: value}, inplace=True)' or df[col] = df[col].method(value) instead, to perform the operation inplace on the original object.\n",
            "\n",
            "\n",
            "  df_filled_mean['Age'].fillna(df['Age'].mean(), inplace=True)\n",
            "<ipython-input-6-ae4f1ee34d2f>:16: FutureWarning: A value is trying to be set on a copy of a DataFrame or Series through chained assignment using an inplace method.\n",
            "The behavior will change in pandas 3.0. This inplace method will never work because the intermediate object on which we are setting values always behaves as a copy.\n",
            "\n",
            "For example, when doing 'df[col].method(value, inplace=True)', try using 'df.method({col: value}, inplace=True)' or df[col] = df[col].method(value) instead, to perform the operation inplace on the original object.\n",
            "\n",
            "\n",
            "  df_filled_mean['Height'].fillna(df['Height'].mean(), inplace=True)\n",
            "<ipython-input-6-ae4f1ee34d2f>:17: FutureWarning: A value is trying to be set on a copy of a DataFrame or Series through chained assignment using an inplace method.\n",
            "The behavior will change in pandas 3.0. This inplace method will never work because the intermediate object on which we are setting values always behaves as a copy.\n",
            "\n",
            "For example, when doing 'df[col].method(value, inplace=True)', try using 'df.method({col: value}, inplace=True)' or df[col] = df[col].method(value) instead, to perform the operation inplace on the original object.\n",
            "\n",
            "\n",
            "  df_filled_mean['Experience'].fillna(df['Experience'].mean(), inplace=True)\n",
            "<ipython-input-6-ae4f1ee34d2f>:18: FutureWarning: A value is trying to be set on a copy of a DataFrame or Series through chained assignment using an inplace method.\n",
            "The behavior will change in pandas 3.0. This inplace method will never work because the intermediate object on which we are setting values always behaves as a copy.\n",
            "\n",
            "For example, when doing 'df[col].method(value, inplace=True)', try using 'df.method({col: value}, inplace=True)' or df[col] = df[col].method(value) instead, to perform the operation inplace on the original object.\n",
            "\n",
            "\n",
            "  df_filled_median['Age'].fillna(df['Age'].median(), inplace=True)\n",
            "<ipython-input-6-ae4f1ee34d2f>:19: FutureWarning: A value is trying to be set on a copy of a DataFrame or Series through chained assignment using an inplace method.\n",
            "The behavior will change in pandas 3.0. This inplace method will never work because the intermediate object on which we are setting values always behaves as a copy.\n",
            "\n",
            "For example, when doing 'df[col].method(value, inplace=True)', try using 'df.method({col: value}, inplace=True)' or df[col] = df[col].method(value) instead, to perform the operation inplace on the original object.\n",
            "\n",
            "\n",
            "  df_filled_median['Height'].fillna(df['Height'].median(), inplace=True)\n",
            "<ipython-input-6-ae4f1ee34d2f>:20: FutureWarning: A value is trying to be set on a copy of a DataFrame or Series through chained assignment using an inplace method.\n",
            "The behavior will change in pandas 3.0. This inplace method will never work because the intermediate object on which we are setting values always behaves as a copy.\n",
            "\n",
            "For example, when doing 'df[col].method(value, inplace=True)', try using 'df.method({col: value}, inplace=True)' or df[col] = df[col].method(value) instead, to perform the operation inplace on the original object.\n",
            "\n",
            "\n",
            "  df_filled_median['Experience'].fillna(df['Experience'].median(), inplace=True)\n",
            "<ipython-input-6-ae4f1ee34d2f>:21: FutureWarning: A value is trying to be set on a copy of a DataFrame or Series through chained assignment using an inplace method.\n",
            "The behavior will change in pandas 3.0. This inplace method will never work because the intermediate object on which we are setting values always behaves as a copy.\n",
            "\n",
            "For example, when doing 'df[col].method(value, inplace=True)', try using 'df.method({col: value}, inplace=True)' or df[col] = df[col].method(value) instead, to perform the operation inplace on the original object.\n",
            "\n",
            "\n",
            "  df_filled_mode['Gender'].fillna(df['Gender'].mode()[0], inplace=True)\n",
            "<ipython-input-6-ae4f1ee34d2f>:22: FutureWarning: A value is trying to be set on a copy of a DataFrame or Series through chained assignment using an inplace method.\n",
            "The behavior will change in pandas 3.0. This inplace method will never work because the intermediate object on which we are setting values always behaves as a copy.\n",
            "\n",
            "For example, when doing 'df[col].method(value, inplace=True)', try using 'df.method({col: value}, inplace=True)' or df[col] = df[col].method(value) instead, to perform the operation inplace on the original object.\n",
            "\n",
            "\n",
            "  df_filled_mode['HelmetStatus'].fillna(df['HelmetStatus'].mode()[0], inplace=True)\n"
          ]
        }
      ]
    },
    {
      "cell_type": "code",
      "source": [
        "import pandas as pd\n",
        "data = {\n",
        "    'Name': ['Alice', 'Bob', 'Alice', 'Charlie', 'Bob'],\n",
        "    'Age': [25, 30, 35, 40, 45],\n",
        "    'City': ['New York', 'San Francisco', 'Los Angeles', 'Chicago', 'Houston']\n",
        "}\n",
        "df = pd.DataFrame(data)\n",
        "print(\"Original DataFrame:\")\n",
        "print(df)\n",
        "duplicates = df[df.duplicated()]\n",
        "print(\"\\nIdentified Duplicates:\")\n",
        "print(duplicates)\n",
        "df_deduplicated = df.drop_duplicates()\n",
        "print(\"\\nDataFrame after removing duplicates:\")\n",
        "print(df_deduplicated)\n",
        "df_cleaned = df.drop_duplicates(subset=['Name'])\n",
        "print(\"\\nDataFrame after removing duplicates based on 'Name' column:\")\n",
        "print(df_cleaned)"
      ],
      "metadata": {
        "colab": {
          "base_uri": "https://localhost:8080/"
        },
        "id": "qnBY3O5ufpz6",
        "outputId": "009401f9-e16c-4694-9042-1d993b90dacd"
      },
      "execution_count": 11,
      "outputs": [
        {
          "output_type": "stream",
          "name": "stdout",
          "text": [
            "Original DataFrame:\n",
            "      Name  Age           City\n",
            "0    Alice   25       New York\n",
            "1      Bob   30  San Francisco\n",
            "2    Alice   35    Los Angeles\n",
            "3  Charlie   40        Chicago\n",
            "4      Bob   45        Houston\n",
            "\n",
            "Identified Duplicates:\n",
            "Empty DataFrame\n",
            "Columns: [Name, Age, City]\n",
            "Index: []\n",
            "\n",
            "DataFrame after removing duplicates:\n",
            "      Name  Age           City\n",
            "0    Alice   25       New York\n",
            "1      Bob   30  San Francisco\n",
            "2    Alice   35    Los Angeles\n",
            "3  Charlie   40        Chicago\n",
            "4      Bob   45        Houston\n",
            "\n",
            "DataFrame after removing duplicates based on 'Name' column:\n",
            "      Name  Age           City\n",
            "0    Alice   25       New York\n",
            "1      Bob   30  San Francisco\n",
            "3  Charlie   40        Chicago\n"
          ]
        }
      ]
    }
  ]
}