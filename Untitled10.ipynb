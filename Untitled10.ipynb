{
  "nbformat": 4,
  "nbformat_minor": 0,
  "metadata": {
    "colab": {
      "provenance": [],
      "authorship_tag": "ABX9TyMHjgElCtcHS2p8CRcu8fpU",
      "include_colab_link": true
    },
    "kernelspec": {
      "name": "python3",
      "display_name": "Python 3"
    },
    "language_info": {
      "name": "python"
    }
  },
  "cells": [
    {
      "cell_type": "markdown",
      "metadata": {
        "id": "view-in-github",
        "colab_type": "text"
      },
      "source": [
        "<a href=\"https://colab.research.google.com/github/Shivani11032006/Daily-work/blob/main/Untitled10.ipynb\" target=\"_parent\"><img src=\"https://colab.research.google.com/assets/colab-badge.svg\" alt=\"Open In Colab\"/></a>"
      ]
    },
    {
      "cell_type": "code",
      "execution_count": null,
      "metadata": {
        "id": "sxda4yggWtVq"
      },
      "outputs": [],
      "source": []
    },
    {
      "cell_type": "code",
      "source": [
        "import pandas as pd\n",
        "data = {\n",
        "    'Age': [25, None, 30, 35, None,4.5],\n",
        "    'Height': [5.5, 6.1, 5.9, None, 5.8, 5.2],\n",
        "    'HelmetStatus': [1, None, 1, 0, 1, 1],\n",
        "    'Gender': ['M', 'F', 'M', None, 'F', 'M'],\n",
        "    'Experience': [2, 4, 6, 1, None,None]\n",
        "}\n",
        "df = pd.DataFrame(data)\n",
        "print(\"Original DataFrame with missing values:\")\n",
        "print(df)\n",
        "df_filled_mean = df.copy()\n",
        "df_filled_median = df.copy()\n",
        "df_filled_mode = df.copy()\n",
        "df_filled_mean['Age'].fillna(df['Age'].mean(), inplace=True)\n",
        "df_filled_mean['Height'].fillna(df['Height'].mean(), inplace=True)\n",
        "df_filled_mean['Experience'].fillna(df['Experience'].mean(), inplace=True)\n",
        "df_filled_median['Age'].fillna(df['Age'].median(), inplace=True)\n",
        "df_filled_median['Height'].fillna(df['Height'].median(), inplace=True)\n",
        "df_filled_median['Experience'].fillna(df['Experience'].median(), inplace=True)\n",
        "df_filled_mode['Gender'].fillna(df['Gender'].mode()[0], inplace=True)\n",
        "df_filled_mode['HelmetStatus'].fillna(df['HelmetStatus'].mode()[0], inplace=True)\n",
        "print(\"\\nDataFrame after filling missing values with mean:\")\n",
        "print(df_filled_mean)\n",
        "print(\"\\nDataFrame after filling missing values with median:\")\n",
        "print(df_filled_median)\n",
        "print(\"\\nDataFrame after filling missing values with mode:\")\n",
        "print(df_filled_mode)\n"
      ],
      "metadata": {
        "colab": {
          "base_uri": "https://localhost:8080/"
        },
        "id": "dhr0tbKrY3ob",
        "outputId": "1595c243-4ab8-4b66-bcd1-56b6e97fd75e"
      },
      "execution_count": 6,
      "outputs": [
        {
          "output_type": "stream",
          "name": "stdout",
          "text": [
            "Original DataFrame with missing values:\n",
            "    Age  Height  HelmetStatus Gender  Experience\n",
            "0  25.0     5.5           1.0      M         2.0\n",
            "1   NaN     6.1           NaN      F         4.0\n",
            "2  30.0     5.9           1.0      M         6.0\n",
            "3  35.0     NaN           0.0   None         1.0\n",
            "4   NaN     5.8           1.0      F         NaN\n",
            "5   4.5     5.2           1.0      M         NaN\n",
            "\n",
            "DataFrame after filling missing values with mean:\n",
            "      Age  Height  HelmetStatus Gender  Experience\n",
            "0  25.000     5.5           1.0      M        2.00\n",
            "1  23.625     6.1           NaN      F        4.00\n",
            "2  30.000     5.9           1.0      M        6.00\n",
            "3  35.000     5.7           0.0   None        1.00\n",
            "4  23.625     5.8           1.0      F        3.25\n",
            "5   4.500     5.2           1.0      M        3.25\n",
            "\n",
            "DataFrame after filling missing values with median:\n",
            "    Age  Height  HelmetStatus Gender  Experience\n",
            "0  25.0     5.5           1.0      M         2.0\n",
            "1  27.5     6.1           NaN      F         4.0\n",
            "2  30.0     5.9           1.0      M         6.0\n",
            "3  35.0     5.8           0.0   None         1.0\n",
            "4  27.5     5.8           1.0      F         3.0\n",
            "5   4.5     5.2           1.0      M         3.0\n",
            "\n",
            "DataFrame after filling missing values with mode:\n",
            "    Age  Height  HelmetStatus Gender  Experience\n",
            "0  25.0     5.5           1.0      M         2.0\n",
            "1   NaN     6.1           1.0      F         4.0\n",
            "2  30.0     5.9           1.0      M         6.0\n",
            "3  35.0     NaN           0.0      M         1.0\n",
            "4   NaN     5.8           1.0      F         NaN\n",
            "5   4.5     5.2           1.0      M         NaN\n"
          ]
        },
        {
          "output_type": "stream",
          "name": "stderr",
          "text": [
            "<ipython-input-6-ae4f1ee34d2f>:15: FutureWarning: A value is trying to be set on a copy of a DataFrame or Series through chained assignment using an inplace method.\n",
            "The behavior will change in pandas 3.0. This inplace method will never work because the intermediate object on which we are setting values always behaves as a copy.\n",
            "\n",
            "For example, when doing 'df[col].method(value, inplace=True)', try using 'df.method({col: value}, inplace=True)' or df[col] = df[col].method(value) instead, to perform the operation inplace on the original object.\n",
            "\n",
            "\n",
            "  df_filled_mean['Age'].fillna(df['Age'].mean(), inplace=True)\n",
            "<ipython-input-6-ae4f1ee34d2f>:16: FutureWarning: A value is trying to be set on a copy of a DataFrame or Series through chained assignment using an inplace method.\n",
            "The behavior will change in pandas 3.0. This inplace method will never work because the intermediate object on which we are setting values always behaves as a copy.\n",
            "\n",
            "For example, when doing 'df[col].method(value, inplace=True)', try using 'df.method({col: value}, inplace=True)' or df[col] = df[col].method(value) instead, to perform the operation inplace on the original object.\n",
            "\n",
            "\n",
            "  df_filled_mean['Height'].fillna(df['Height'].mean(), inplace=True)\n",
            "<ipython-input-6-ae4f1ee34d2f>:17: FutureWarning: A value is trying to be set on a copy of a DataFrame or Series through chained assignment using an inplace method.\n",
            "The behavior will change in pandas 3.0. This inplace method will never work because the intermediate object on which we are setting values always behaves as a copy.\n",
            "\n",
            "For example, when doing 'df[col].method(value, inplace=True)', try using 'df.method({col: value}, inplace=True)' or df[col] = df[col].method(value) instead, to perform the operation inplace on the original object.\n",
            "\n",
            "\n",
            "  df_filled_mean['Experience'].fillna(df['Experience'].mean(), inplace=True)\n",
            "<ipython-input-6-ae4f1ee34d2f>:18: FutureWarning: A value is trying to be set on a copy of a DataFrame or Series through chained assignment using an inplace method.\n",
            "The behavior will change in pandas 3.0. This inplace method will never work because the intermediate object on which we are setting values always behaves as a copy.\n",
            "\n",
            "For example, when doing 'df[col].method(value, inplace=True)', try using 'df.method({col: value}, inplace=True)' or df[col] = df[col].method(value) instead, to perform the operation inplace on the original object.\n",
            "\n",
            "\n",
            "  df_filled_median['Age'].fillna(df['Age'].median(), inplace=True)\n",
            "<ipython-input-6-ae4f1ee34d2f>:19: FutureWarning: A value is trying to be set on a copy of a DataFrame or Series through chained assignment using an inplace method.\n",
            "The behavior will change in pandas 3.0. This inplace method will never work because the intermediate object on which we are setting values always behaves as a copy.\n",
            "\n",
            "For example, when doing 'df[col].method(value, inplace=True)', try using 'df.method({col: value}, inplace=True)' or df[col] = df[col].method(value) instead, to perform the operation inplace on the original object.\n",
            "\n",
            "\n",
            "  df_filled_median['Height'].fillna(df['Height'].median(), inplace=True)\n",
            "<ipython-input-6-ae4f1ee34d2f>:20: FutureWarning: A value is trying to be set on a copy of a DataFrame or Series through chained assignment using an inplace method.\n",
            "The behavior will change in pandas 3.0. This inplace method will never work because the intermediate object on which we are setting values always behaves as a copy.\n",
            "\n",
            "For example, when doing 'df[col].method(value, inplace=True)', try using 'df.method({col: value}, inplace=True)' or df[col] = df[col].method(value) instead, to perform the operation inplace on the original object.\n",
            "\n",
            "\n",
            "  df_filled_median['Experience'].fillna(df['Experience'].median(), inplace=True)\n",
            "<ipython-input-6-ae4f1ee34d2f>:21: FutureWarning: A value is trying to be set on a copy of a DataFrame or Series through chained assignment using an inplace method.\n",
            "The behavior will change in pandas 3.0. This inplace method will never work because the intermediate object on which we are setting values always behaves as a copy.\n",
            "\n",
            "For example, when doing 'df[col].method(value, inplace=True)', try using 'df.method({col: value}, inplace=True)' or df[col] = df[col].method(value) instead, to perform the operation inplace on the original object.\n",
            "\n",
            "\n",
            "  df_filled_mode['Gender'].fillna(df['Gender'].mode()[0], inplace=True)\n",
            "<ipython-input-6-ae4f1ee34d2f>:22: FutureWarning: A value is trying to be set on a copy of a DataFrame or Series through chained assignment using an inplace method.\n",
            "The behavior will change in pandas 3.0. This inplace method will never work because the intermediate object on which we are setting values always behaves as a copy.\n",
            "\n",
            "For example, when doing 'df[col].method(value, inplace=True)', try using 'df.method({col: value}, inplace=True)' or df[col] = df[col].method(value) instead, to perform the operation inplace on the original object.\n",
            "\n",
            "\n",
            "  df_filled_mode['HelmetStatus'].fillna(df['HelmetStatus'].mode()[0], inplace=True)\n"
          ]
        }
      ]
    }
  ]
}