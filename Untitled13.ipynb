{
  "nbformat": 4,
  "nbformat_minor": 0,
  "metadata": {
    "colab": {
      "provenance": [],
      "authorship_tag": "ABX9TyO+8kd+es2HzhK0QgU/ySb4",
      "include_colab_link": true
    },
    "kernelspec": {
      "name": "python3",
      "display_name": "Python 3"
    },
    "language_info": {
      "name": "python"
    }
  },
  "cells": [
    {
      "cell_type": "markdown",
      "metadata": {
        "id": "view-in-github",
        "colab_type": "text"
      },
      "source": [
        "<a href=\"https://colab.research.google.com/github/Shivani11032006/Daily-work/blob/main/Untitled13.ipynb\" target=\"_parent\"><img src=\"https://colab.research.google.com/assets/colab-badge.svg\" alt=\"Open In Colab\"/></a>"
      ]
    },
    {
      "cell_type": "code",
      "execution_count": 2,
      "metadata": {
        "colab": {
          "base_uri": "https://localhost:8080/"
        },
        "id": "rG9xYXqWLVXb",
        "outputId": "f9ac2602-6155-49b0-b68d-7d6d62a7889c"
      },
      "outputs": [
        {
          "output_type": "stream",
          "name": "stdout",
          "text": [
            "Original DataFrame:\n",
            "   Age  Height  Weight\n",
            "0   25     150      70\n",
            "1   30     175      75\n",
            "2   35     180      80\n",
            "3   40     185      85\n",
            "4   45     190      90\n",
            "\n",
            "Normalized DataFrame(scaled to range [0, 1]):\n",
            "    Age  Height  Weight\n",
            "0  0.00   0.000    0.00\n",
            "1  0.25   0.625    0.25\n",
            "2  0.50   0.750    0.50\n",
            "3  0.75   0.875    0.75\n",
            "4  1.00   1.000    1.00\n"
          ]
        }
      ],
      "source": [
        "import pandas as pd\n",
        "from sklearn.preprocessing import MinMaxScaler\n",
        "data = {\n",
        "    'Age': [25, 30, 35, 40, 45],\n",
        "    'Height': [150, 175, 180, 185, 190],\n",
        "    'Weight': [70, 75, 80, 85, 90]\n",
        "}\n",
        "import pandas as pd\n",
        "from sklearn.preprocessing import MinMaxScaler\n",
        "data = {\n",
        "    'Age': [25, 30, 35, 40, 45],\n",
        "    'Height': [150, 175, 180, 185, 190],\n",
        "    'Weight': [70, 75, 80, 85, 90]\n",
        "}\n",
        "df = pd.DataFrame(data)\n",
        "print(\"Original DataFrame:\")\n",
        "print(df)\n",
        "scaler = MinMaxScaler()\n",
        "normalized_data = scaler.fit_transform(df)\n",
        "normalized_df = pd.DataFrame(normalized_data, columns=df.columns)\n",
        "print(\"\\nNormalized DataFrame(scaled to range [0, 1]):\")\n",
        "print(normalized_df)\n",
        "scaler = MinMaxScaler()\n",
        "normalized_data = scaler.fit_transform(df)\n",
        "normalized_df = pd.DataFrame(normalized_data, columns=df.columns)\n",
        "print(\"\\nNormalized DataFrame(scaled to range [0, 1]):\")\n",
        "print(normalized_df)\n",
        "\n"
      ]
    },
    {
      "cell_type": "code",
      "source": [
        "import pandas as pd\n",
        "from sklearn.preprocessing import StandardScaler\n",
        "data = {\n",
        "    'Age': [25, 30, 35, 40, 45],\n",
        "    'Height': [150, 175, 180, 185, 190],\n",
        "    'Weight': [70, 75, 80, 85, 90],\n",
        "    'Income': [50000, 60000, 70000, 80000, 90000]\n",
        "}\n",
        "df = pd.DataFrame(data)\n",
        "print(\"Original DataFrame:\")\n",
        "print(df)\n",
        "scaler = StandardScaler()\n",
        "standardized_data = scaler.fit_transform(df)\n",
        "standardized_df = pd.DataFrame(standardized_data, columns=df.columns)\n",
        "print(\"\\nStandardized DataFrame:\")\n",
        "print(standardized_df)"
      ],
      "metadata": {
        "colab": {
          "base_uri": "https://localhost:8080/"
        },
        "id": "fhV0Yqa2U5bU",
        "outputId": "62d9442c-cbdc-4a32-d6e9-f135884b707a"
      },
      "execution_count": 3,
      "outputs": [
        {
          "output_type": "stream",
          "name": "stdout",
          "text": [
            "Original DataFrame:\n",
            "   Age  Height  Weight  Income\n",
            "0   25     150      70   50000\n",
            "1   30     175      75   60000\n",
            "2   35     180      80   70000\n",
            "3   40     185      85   80000\n",
            "4   45     190      90   90000\n",
            "\n",
            "Standardized DataFrame:\n",
            "        Age    Height    Weight    Income\n",
            "0 -1.414214 -1.866691 -1.414214 -1.414214\n",
            "1 -0.707107 -0.071796 -0.707107 -0.707107\n",
            "2  0.000000  0.287183  0.000000  0.000000\n",
            "3  0.707107  0.646162  0.707107  0.707107\n",
            "4  1.414214  1.005141  1.414214  1.414214\n"
          ]
        }
      ]
    }
  ]
}