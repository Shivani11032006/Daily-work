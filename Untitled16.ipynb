{
  "nbformat": 4,
  "nbformat_minor": 0,
  "metadata": {
    "colab": {
      "provenance": [],
      "authorship_tag": "ABX9TyPKG+KXgajxSNYF41G7kkqr",
      "include_colab_link": true
    },
    "kernelspec": {
      "name": "python3",
      "display_name": "Python 3"
    },
    "language_info": {
      "name": "python"
    }
  },
  "cells": [
    {
      "cell_type": "markdown",
      "metadata": {
        "id": "view-in-github",
        "colab_type": "text"
      },
      "source": [
        "<a href=\"https://colab.research.google.com/github/Shivani11032006/Daily-work/blob/main/Untitled16.ipynb\" target=\"_parent\"><img src=\"https://colab.research.google.com/assets/colab-badge.svg\" alt=\"Open In Colab\"/></a>"
      ]
    },
    {
      "cell_type": "code",
      "execution_count": 2,
      "metadata": {
        "colab": {
          "base_uri": "https://localhost:8080/"
        },
        "id": "1HtCsW6oV5K5",
        "outputId": "096737d5-823d-46ed-980a-3c202102f99a"
      },
      "outputs": [
        {
          "output_type": "stream",
          "name": "stdout",
          "text": [
            "The total cab fare for 10 km is: 25\n"
          ]
        }
      ],
      "source": [
        "#Find cab prediction price(y) by considering x value(no.of km travelled) and rate per km is fixed one(m) as 2 and fixed price as that is fare is c value is 5\n",
        "def calculate_cab_fare(x):\n",
        "  \"\"\"\n",
        "  Calculates the cab fare based on distance traveled.\n",
        "\n",
        "  Args:\n",
        "    x: The number of kilometers traveled.\n",
        "\n",
        "  Returns:\n",
        "    The total cab fare.\n",
        "  \"\"\"\n",
        "  m = 2  # Rate per kilometer\n",
        "  c = 5  # Fixed price\n",
        "  y = m * x + c  # Calculate total fare\n",
        "  return y\n",
        "\n",
        "# Example usage\n",
        "distance_traveled = 10  # Example distance in kilometers\n",
        "fare = calculate_cab_fare(distance_traveled)\n",
        "\n",
        "print(f\"The total cab fare for {distance_traveled} km is: {fare}\")"
      ]
    }
  ]
}